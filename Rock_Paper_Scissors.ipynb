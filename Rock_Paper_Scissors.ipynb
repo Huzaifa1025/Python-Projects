{
 "cells": [
  {
   "cell_type": "code",
   "execution_count": 13,
   "id": "e0fa8fed",
   "metadata": {},
   "outputs": [
    {
     "name": "stdout",
     "output_type": "stream",
     "text": [
      "Enter a choice (rock, paper, scissors) : paper\n",
      "Player: paper\n",
      "Computer: paper\n",
      "It's a Tie\n",
      "Play again(y/n): y\n",
      "Enter a choice (rock, paper, scissors) : rock\n",
      "Player: rock\n",
      "Computer: paper\n",
      "You Lose!\n",
      "Play again(y/n): scissors\n",
      "Thanks for Playing! \n"
     ]
    }
   ],
   "source": [
    "import random\n",
    "\n",
    "options = (\"rock\", \"paper\", \"scissors\")\n",
    "again = True\n",
    "\n",
    "while again :\n",
    "    player = None\n",
    "    computer = random.choice(options)\n",
    "    while player not in options:\n",
    "        player = input(\"Enter a choice (rock, paper, scissors) : \")\n",
    "\n",
    "    print(f\"Player: {player}\")\n",
    "    print(f\"Computer: {computer}\")\n",
    "\n",
    "    if player == computer:\n",
    "        print(\"It's a Tie\")\n",
    "    elif player == \"rock\" and computer == \"scissors\" :\n",
    "        print(\"You win!\")\n",
    "    elif player == \"scissors\" and computer == \"paper\" :\n",
    "        print(\"You win!\")\n",
    "    elif player == \"paper\" and computer == \"rock\" :\n",
    "        print(\"You win!\")\n",
    "    else :\n",
    "        print(\"You Lose!\")\n",
    "    \n",
    "    if not input(\"Play again(y/n): \").lower() == \"y\" :\n",
    "        again = False\n",
    "        \n",
    "print(\"Thanks for Playing! \")"
   ]
  }
 ],
 "metadata": {
  "kernelspec": {
   "display_name": "Python 3 (ipykernel)",
   "language": "python",
   "name": "python3"
  },
  "language_info": {
   "codemirror_mode": {
    "name": "ipython",
    "version": 3
   },
   "file_extension": ".py",
   "mimetype": "text/x-python",
   "name": "python",
   "nbconvert_exporter": "python",
   "pygments_lexer": "ipython3",
   "version": "3.9.12"
  }
 },
 "nbformat": 4,
 "nbformat_minor": 5
}
