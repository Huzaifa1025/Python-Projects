{
 "cells": [
  {
   "cell_type": "code",
   "execution_count": 20,
   "id": "93dd86c9",
   "metadata": {},
   "outputs": [
    {
     "name": "stdout",
     "output_type": "stream",
     "text": [
      "2\n",
      "Want to roll the dice again? (y/n): y\n",
      "6\n",
      "Want to roll the dice again? (y/n): y\n",
      "3\n",
      "Want to roll the dice again? (y/n): n\n"
     ]
    }
   ],
   "source": [
    "import random # To generate a random number\n",
    "again = True\n",
    "\n",
    "while again:\n",
    "    print(random.randint(1,6)) # To print number from 1 to 6\n",
    "    another_roll = input(\"Want to roll the dice again? (y/n): \")\n",
    "    if another_roll.lower() == \"y\" :\n",
    "        continue\n",
    "    else:\n",
    "        break\n"
   ]
  },
  {
   "cell_type": "code",
   "execution_count": 1,
   "id": "2e7ea293",
   "metadata": {},
   "outputs": [
    {
     "name": "stdout",
     "output_type": "stream",
     "text": [
      "┌─────────┐ ┌─────────┐ \n",
      "│ ●     ● │ │ ●     ● │ \n",
      "│         │ │         │ \n",
      "│ ●     ● │ │ ●     ● │ \n",
      "└─────────┘ └─────────┘ \n",
      "total: 8\n"
     ]
    }
   ],
   "source": [
    "import random\n",
    "# ● ┌ ─ ┐ │ └ ┘\n",
    "\n",
    "\"┌─────────┐\"\n",
    "\"│         │\"\n",
    "\"│         │\"\n",
    "\"│         │\"\n",
    "\"└─────────┘\"\n",
    "\n",
    "dice_art = {\n",
    "    1 : (\"┌─────────┐\", \n",
    "         \"│         │\", \n",
    "         \"│    ●    │\", \n",
    "         \"│         │\", \n",
    "         \"└─────────┘\"),\n",
    "    \n",
    "    2 : (\"┌─────────┐\", \n",
    "         \"│ ●       │\", \n",
    "         \"│         │\", \n",
    "         \"│       ● │\", \n",
    "         \"└─────────┘\"),\n",
    "    \n",
    "    3 : (\"┌─────────┐\", \n",
    "         \"│ ●       │\", \n",
    "         \"│    ●    │\", \n",
    "         \"│       ● │\", \n",
    "         \"└─────────┘\"),\n",
    "    \n",
    "    4 : (\"┌─────────┐\", \n",
    "         \"│ ●     ● │\", \n",
    "         \"│         │\", \n",
    "         \"│ ●     ● │\", \n",
    "         \"└─────────┘\"),\n",
    "    \n",
    "    5 : (\"┌─────────┐\", \n",
    "         \"│ ●     ● │\", \n",
    "         \"│    ●    │\", \n",
    "         \"│ ●     ● │\", \n",
    "         \"└─────────┘\"),\n",
    "    \n",
    "    6 : (\"┌─────────┐\", \n",
    "         \"│ ●     ● │\", \n",
    "         \"│ ●     ● │\", \n",
    "         \"│ ●     ● │\", \n",
    "         \"└─────────┘\")\n",
    "\n",
    "}\n",
    "\n",
    "dice = []\n",
    "total = 0\n",
    "num_of_dice = int(input(\"How many dice?\\n\"))\n",
    "\n",
    "for die in range(num_of_dice):\n",
    "    dice.append(random.randint(1,6))\n",
    "    \n",
    "for line in range(5):\n",
    "    for die in dice:\n",
    "        print(dice_art.get(die)[line], end = \" \")\n",
    "    print()\n",
    "    \n",
    "for die in dice:\n",
    "    total += die\n",
    "    \n",
    "print(\"total:\",total)\n",
    "\n"
   ]
  },
  {
   "cell_type": "code",
   "execution_count": null,
   "id": "abcc5de4",
   "metadata": {},
   "outputs": [],
   "source": []
  }
 ],
 "metadata": {
  "kernelspec": {
   "display_name": "Python 3 (ipykernel)",
   "language": "python",
   "name": "python3"
  },
  "language_info": {
   "codemirror_mode": {
    "name": "ipython",
    "version": 3
   },
   "file_extension": ".py",
   "mimetype": "text/x-python",
   "name": "python",
   "nbconvert_exporter": "python",
   "pygments_lexer": "ipython3",
   "version": "3.10.6"
  }
 },
 "nbformat": 4,
 "nbformat_minor": 5
}
